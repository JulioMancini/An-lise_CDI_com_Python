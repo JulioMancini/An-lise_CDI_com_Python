{
 "cells": [
  {
   "cell_type": "markdown",
   "metadata": {},
   "source": [
    "Projeto: Análise CDI\n",
    "Desafio:\n",
    "Análise de rentabilidade do CDI, pegando dados direto do Banco Central, criando uma calculadora de retorno desde 1994 e avaliando janelas de retornos.\n",
    "\n",
    "Questão 1\n",
    "O fundo mais lucrativo da principal empresa de gestão de ativos de Gotham City segue uma regra simples: o lucro é o juro composto calculado com a taxa de juros SELIC. Seu desafio é criar um programa que calcule uma série que contenha o lucro total, dado um valor inicial de capital em um determinado período de tempo (data de início, data de término) com diferentes frequências (frequência). Sua solução deve seguir as restrições abaixo:\n",
    "\n",
    "A data de início deve ser maior ou igual a 1995-01-01. A data de término deve ser posterior à data de início. A frequência deve ser: dia, mês ou ano.\n",
    "\n",
    "Passo a passo:\n",
    "\n",
    "Passo 1 - Instalar e importar os módulos e bibliotecas.\n",
    "\n",
    "Passo 2 - Coletar dados do usuário.\n",
    "\n",
    "Passo 3 - Tratar dados coletados.\n",
    "\n",
    "Passo 4 - Pegar dados da SELIC do banco central.\n",
    "\n",
    "Passo 5 - Calcular retorno do período.\n",
    "\n",
    "Questão 2\n",
    "Depois de desenvolver sua solução, responda a esta pergunta:\n",
    "\n",
    "Qual foi o período mais lucrativo de 500 dias corridos desde 2000-01-01 até 2022-03-31? Ou seja, se você tivesse que investir um valor C de capital por 500 dias, qual teria sido o período mais lucrativo desde o início de 2000 até o final de março de 2022? Sua resposta deve ser as datas de início e término do período encontrado.\n",
    "\n",
    "Passo a passo:\n",
    "\n",
    "Passo 6 - Filtrar dados da selic no período da questão.\n",
    "\n",
    "Passo 7 - Calcular rentabilidade das janelas de 500 dias.\n",
    "\n",
    "Passo 8 - Criar range de datas na tabela.\n",
    "\n",
    "Passo 9 - Pegar o maior retorno da tabela.Projeto: Análise CDI\n",
    "Desafio:\n",
    "Análise de rentabilidade do CDI, pegando dados direto do Banco Central, criando uma calculadora de retorno desde 1994 e avaliando janelas de retornos.\n",
    "\n",
    "Questão 1\n",
    "O fundo mais lucrativo da principal empresa de gestão de ativos de Gotham City segue uma regra simples: o lucro é o juro composto calculado com a taxa de juros SELIC. Seu desafio é criar um programa que calcule uma série que contenha o lucro total, dado um valor inicial de capital em um determinado período de tempo (data de início, data de término) com diferentes frequências (frequência). Sua solução deve seguir as restrições abaixo:\n",
    "\n",
    "A data de início deve ser maior ou igual a 1995-01-01. A data de término deve ser posterior à data de início. A frequência deve ser: dia, mês ou ano.\n",
    "\n",
    "Passo a passo:\n",
    "\n",
    "Passo 1 - Instalar e importar os módulos e bibliotecas.\n",
    "\n",
    "Passo 2 - Coletar dados do usuário.\n",
    "\n",
    "Passo 3 - Tratar dados coletados.\n",
    "\n",
    "Passo 4 - Pegar dados da SELIC do banco central.\n",
    "\n",
    "Passo 5 - Calcular retorno do período.\n",
    "\n",
    "Questão 2\n",
    "Depois de desenvolver sua solução, responda a esta pergunta:\n",
    "\n",
    "Qual foi o período mais lucrativo de 500 dias corridos desde 2000-01-01 até 2022-03-31? Ou seja, se você tivesse que investir um valor C de capital por 500 dias, qual teria sido o período mais lucrativo desde o início de 2000 até o final de março de 2022? Sua resposta deve ser as datas de início e término do período encontrado.\n",
    "\n",
    "Passo a passo:\n",
    "\n",
    "Passo 6 - Filtrar dados da selic no período da questão.\n",
    "\n",
    "Passo 7 - Calcular rentabilidade das janelas de 500 dias.\n",
    "\n",
    "Passo 8 - Criar range de datas na tabela.\n",
    "\n",
    "Passo 9 - Pegar o maior retorno da tabela."
   ]
  },
  {
   "cell_type": "markdown",
   "metadata": {},
   "source": [
    "Passo 1 - Instalar e importar os módulos e bibliotecas."
   ]
  },
  {
   "cell_type": "markdown",
   "metadata": {},
   "source": [
    "!pip install python-bcb"
   ]
  },
  {
   "cell_type": "markdown",
   "metadata": {},
   "source": [
    "Passo 2 - Coletar dados do usuário."
   ]
  },
  {
   "cell_type": "code",
   "execution_count": 1,
   "metadata": {},
   "outputs": [],
   "source": [
    "capital = float(input(\"Digite o capital investido: \"))\n",
    "frequencia = input(\"Digite a frequência do período (Y, M, D): \")\n",
    "inicio = input(\"Digite a data inicial maior do que 1995/01/01 no formato YYYY/MM/DD: \")\n",
    "final = input(\"Digite a data final no seguinte formato YYYY/MM/DD: \")"
   ]
  },
  {
   "cell_type": "code",
   "execution_count": null,
   "metadata": {},
   "outputs": [],
   "source": []
  }
 ],
 "metadata": {
  "kernelspec": {
   "display_name": "Python 3",
   "language": "python",
   "name": "python3"
  },
  "language_info": {
   "codemirror_mode": {
    "name": "ipython",
    "version": 3
   },
   "file_extension": ".py",
   "mimetype": "text/x-python",
   "name": "python",
   "nbconvert_exporter": "python",
   "pygments_lexer": "ipython3",
   "version": "3.12.7"
  }
 },
 "nbformat": 4,
 "nbformat_minor": 2
}
